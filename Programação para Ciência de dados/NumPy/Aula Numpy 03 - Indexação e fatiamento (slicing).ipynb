{
 "cells": [
  {
   "cell_type": "code",
   "execution_count": null,
   "metadata": {
    "collapsed": true
   },
   "outputs": [],
   "source": []
  },
  {
   "cell_type": "markdown",
   "metadata": {},
   "source": [
    "# Indexação e fatiamento (slicing)"
   ]
  },
  {
   "cell_type": "code",
   "execution_count": 1,
   "metadata": {},
   "outputs": [],
   "source": [
    "# Importando o NumPy\n",
    "import numpy as np"
   ]
  },
  {
   "cell_type": "code",
   "execution_count": 2,
   "metadata": {},
   "outputs": [
    {
     "data": {
      "text/plain": [
       "array([6, 0, 4, 0, 2, 0, 1, 1, 1, 7])"
      ]
     },
     "execution_count": 2,
     "metadata": {},
     "output_type": "execute_result"
    }
   ],
   "source": [
    "# Cria um ndarray com 10 elementos entre 0 e 9\n",
    "a1D = np.random.randint(0, 10, 10)\n",
    "a1D"
   ]
  },
  {
   "cell_type": "code",
   "execution_count": 3,
   "metadata": {},
   "outputs": [
    {
     "data": {
      "text/plain": [
       "array([[ 7, 13, 56, 98, 45],\n",
       "       [71, 77, 31, 38, 94],\n",
       "       [90, 59,  2, 57, 92],\n",
       "       [89, 41, 77, 64, 68]])"
      ]
     },
     "execution_count": 3,
     "metadata": {},
     "output_type": "execute_result"
    }
   ],
   "source": [
    "a2D = np.random.randint(1, 101, (4,5)) # Cria um ndarray de 4 linhas x 5 colunas com elementos entre 1 e 100\n",
    "a2D"
   ]
  },
  {
   "cell_type": "code",
   "execution_count": 4,
   "metadata": {},
   "outputs": [
    {
     "data": {
      "text/plain": [
       "array([[[0.22313423, 0.96459802, 0.81003979, 0.3202331 , 0.79970301],\n",
       "        [0.64108078, 0.51320579, 0.48977679, 0.10091575, 0.17744863],\n",
       "        [0.08019348, 0.42284109, 0.67783351, 0.10120957, 0.52449624],\n",
       "        [0.7806066 , 0.86074008, 0.00397581, 0.60444499, 0.97808371]],\n",
       "\n",
       "       [[0.23864549, 0.11876185, 0.15610741, 0.3434204 , 0.62135074],\n",
       "        [0.08612984, 0.83787888, 0.77520181, 0.67011204, 0.93971613],\n",
       "        [0.14844687, 0.17499219, 0.02590024, 0.30385154, 0.66981505],\n",
       "        [0.86488713, 0.33308853, 0.13260632, 0.88356567, 0.22942502]],\n",
       "\n",
       "       [[0.18078672, 0.94616265, 0.80733066, 0.69472685, 0.05913967],\n",
       "        [0.73897772, 0.63404432, 0.53994421, 0.97825092, 0.85408167],\n",
       "        [0.40213028, 0.5080866 , 0.78488739, 0.11976166, 0.66189864],\n",
       "        [0.07797954, 0.09417865, 0.87586133, 0.68691576, 0.52589568]]])"
      ]
     },
     "execution_count": 4,
     "metadata": {},
     "output_type": "execute_result"
    }
   ],
   "source": [
    "a3D = np.random.random((3,4,5)) # Cria um ndarray de 3 páginas x 4 linhas x 5 colunas com elementos entre 0 e 1\n",
    "a3D"
   ]
  },
  {
   "cell_type": "markdown",
   "metadata": {},
   "source": [
    "### Acessando elementos específicos"
   ]
  },
  {
   "cell_type": "code",
   "execution_count": 5,
   "metadata": {},
   "outputs": [
    {
     "data": {
      "text/plain": [
       "array([6, 0, 4, 0, 2, 0, 1, 1, 1, 7])"
      ]
     },
     "execution_count": 5,
     "metadata": {},
     "output_type": "execute_result"
    }
   ],
   "source": [
    "# Acessando elementos de um ndarray de 1 dimensão\n",
    "a1D"
   ]
  },
  {
   "cell_type": "code",
   "execution_count": 6,
   "metadata": {},
   "outputs": [
    {
     "data": {
      "text/plain": [
       "6"
      ]
     },
     "execution_count": 6,
     "metadata": {},
     "output_type": "execute_result"
    }
   ],
   "source": [
    "# nome_do_array[índice]\n",
    "a1D[0]"
   ]
  },
  {
   "cell_type": "code",
   "execution_count": 7,
   "metadata": {},
   "outputs": [
    {
     "data": {
      "text/plain": [
       "4"
      ]
     },
     "execution_count": 7,
     "metadata": {},
     "output_type": "execute_result"
    }
   ],
   "source": [
    "a1D[2]"
   ]
  },
  {
   "cell_type": "code",
   "execution_count": 8,
   "metadata": {},
   "outputs": [
    {
     "data": {
      "text/plain": [
       "7"
      ]
     },
     "execution_count": 8,
     "metadata": {},
     "output_type": "execute_result"
    }
   ],
   "source": [
    "a1D[-1]"
   ]
  },
  {
   "cell_type": "code",
   "execution_count": 9,
   "metadata": {},
   "outputs": [
    {
     "data": {
      "text/plain": [
       "array([0, 6, 7])"
      ]
     },
     "execution_count": 9,
     "metadata": {},
     "output_type": "execute_result"
    }
   ],
   "source": [
    "indices = [3, 0, -1] # Definindo uma lista com os índices que se deseja acessar\n",
    "a1D[indices]"
   ]
  },
  {
   "cell_type": "code",
   "execution_count": 10,
   "metadata": {},
   "outputs": [
    {
     "data": {
      "text/plain": [
       "array([[ 7, 13, 56, 98, 45],\n",
       "       [71, 77, 31, 38, 94],\n",
       "       [90, 59,  2, 57, 92],\n",
       "       [89, 41, 77, 64, 68]])"
      ]
     },
     "execution_count": 10,
     "metadata": {},
     "output_type": "execute_result"
    }
   ],
   "source": [
    "# Acessando elementos de um ndarray de 2 dimensões\n",
    "a2D"
   ]
  },
  {
   "cell_type": "code",
   "execution_count": 11,
   "metadata": {},
   "outputs": [
    {
     "data": {
      "text/plain": [
       "31"
      ]
     },
     "execution_count": 11,
     "metadata": {},
     "output_type": "execute_result"
    }
   ],
   "source": [
    "# nome_da_matriz[linha][coluna]\n",
    "a2D[1][2]"
   ]
  },
  {
   "cell_type": "code",
   "execution_count": 12,
   "metadata": {},
   "outputs": [
    {
     "data": {
      "text/plain": [
       "68"
      ]
     },
     "execution_count": 12,
     "metadata": {},
     "output_type": "execute_result"
    }
   ],
   "source": [
    "a2D[3][4]"
   ]
  },
  {
   "cell_type": "code",
   "execution_count": 13,
   "metadata": {},
   "outputs": [
    {
     "data": {
      "text/plain": [
       "array([ 7, 77,  2, 64])"
      ]
     },
     "execution_count": 13,
     "metadata": {},
     "output_type": "execute_result"
    }
   ],
   "source": [
    "indice_lin = [0, 1, 2, 3]\n",
    "indice_col = [0, 1, 2, 3]\n",
    "\n",
    "a2D[indice_lin, indice_col]"
   ]
  },
  {
   "cell_type": "code",
   "execution_count": 14,
   "metadata": {},
   "outputs": [
    {
     "data": {
      "text/plain": [
       "array([98, 31, 59, 89])"
      ]
     },
     "execution_count": 14,
     "metadata": {},
     "output_type": "execute_result"
    }
   ],
   "source": [
    "indice_lin = [0, 1, 2, 3]\n",
    "indice_col = [3, 2, 1, 0]\n",
    "\n",
    "a2D[indice_lin, indice_col]"
   ]
  },
  {
   "cell_type": "code",
   "execution_count": 16,
   "metadata": {},
   "outputs": [
    {
     "data": {
      "text/plain": [
       "array([64,  2, 77,  7])"
      ]
     },
     "execution_count": 16,
     "metadata": {},
     "output_type": "execute_result"
    }
   ],
   "source": [
    "indice_lin = [3, 2, 1, 0]\n",
    "indice_col = [3, 2, 1, 0]\n",
    "\n",
    "a2D[indice_lin, indice_col]"
   ]
  },
  {
   "cell_type": "code",
   "execution_count": 17,
   "metadata": {},
   "outputs": [
    {
     "data": {
      "text/plain": [
       "array([[ 7, 13, 56,  7],\n",
       "       [71, 77, 31, 71],\n",
       "       [90, 59,  2, 90],\n",
       "       [89, 41, 77, 89]])"
      ]
     },
     "execution_count": 17,
     "metadata": {},
     "output_type": "execute_result"
    }
   ],
   "source": [
    "a2D[:,[0,1,2,0]] "
   ]
  },
  {
   "cell_type": "code",
   "execution_count": 18,
   "metadata": {},
   "outputs": [
    {
     "data": {
      "text/plain": [
       "array([[71, 77, 31, 71],\n",
       "       [ 7, 13, 56,  7],\n",
       "       [71, 77, 31, 71],\n",
       "       [ 7, 13, 56,  7]])"
      ]
     },
     "execution_count": 18,
     "metadata": {},
     "output_type": "execute_result"
    }
   ],
   "source": [
    "a2D[:,[0,1,2,0]][[1, 0, 1, 0]]"
   ]
  },
  {
   "cell_type": "code",
   "execution_count": 19,
   "metadata": {},
   "outputs": [
    {
     "data": {
      "text/plain": [
       "array([[ 7, 13, 56, 98, 45],\n",
       "       [71, 77, 31, 38, 94],\n",
       "       [90, 59,  2, 57, 92],\n",
       "       [89, 41, 77, 64, 68]])"
      ]
     },
     "execution_count": 19,
     "metadata": {},
     "output_type": "execute_result"
    }
   ],
   "source": [
    "a2D"
   ]
  },
  {
   "cell_type": "code",
   "execution_count": 20,
   "metadata": {},
   "outputs": [
    {
     "data": {
      "text/plain": [
       "array([[71, 77, 31, 71],\n",
       "       [ 7, 13, 56,  7],\n",
       "       [71, 77, 31, 71],\n",
       "       [ 7, 13, 56,  7]])"
      ]
     },
     "execution_count": 20,
     "metadata": {},
     "output_type": "execute_result"
    }
   ],
   "source": [
    "a2D[[1, 0, 1, 0]][:,[0,1,2,0]] "
   ]
  },
  {
   "cell_type": "code",
   "execution_count": 21,
   "metadata": {},
   "outputs": [
    {
     "data": {
      "text/plain": [
       "array([[[0.22313423, 0.96459802, 0.81003979, 0.3202331 , 0.79970301],\n",
       "        [0.64108078, 0.51320579, 0.48977679, 0.10091575, 0.17744863],\n",
       "        [0.08019348, 0.42284109, 0.67783351, 0.10120957, 0.52449624],\n",
       "        [0.7806066 , 0.86074008, 0.00397581, 0.60444499, 0.97808371]],\n",
       "\n",
       "       [[0.23864549, 0.11876185, 0.15610741, 0.3434204 , 0.62135074],\n",
       "        [0.08612984, 0.83787888, 0.77520181, 0.67011204, 0.93971613],\n",
       "        [0.14844687, 0.17499219, 0.02590024, 0.30385154, 0.66981505],\n",
       "        [0.86488713, 0.33308853, 0.13260632, 0.88356567, 0.22942502]],\n",
       "\n",
       "       [[0.18078672, 0.94616265, 0.80733066, 0.69472685, 0.05913967],\n",
       "        [0.73897772, 0.63404432, 0.53994421, 0.97825092, 0.85408167],\n",
       "        [0.40213028, 0.5080866 , 0.78488739, 0.11976166, 0.66189864],\n",
       "        [0.07797954, 0.09417865, 0.87586133, 0.68691576, 0.52589568]]])"
      ]
     },
     "execution_count": 21,
     "metadata": {},
     "output_type": "execute_result"
    }
   ],
   "source": [
    "# Acessando elementos de um ndarray de 3 dimensões\n",
    "a3D"
   ]
  },
  {
   "cell_type": "code",
   "execution_count": 22,
   "metadata": {},
   "outputs": [
    {
     "data": {
      "text/plain": [
       "0.6947268540223354"
      ]
     },
     "execution_count": 22,
     "metadata": {},
     "output_type": "execute_result"
    }
   ],
   "source": [
    "# nome_do_cubo[página][linha][coluna]\n",
    "a3D[2][0][3]"
   ]
  },
  {
   "cell_type": "code",
   "execution_count": 23,
   "metadata": {},
   "outputs": [
    {
     "data": {
      "text/plain": [
       "0.8607400822030384"
      ]
     },
     "execution_count": 23,
     "metadata": {},
     "output_type": "execute_result"
    }
   ],
   "source": [
    "a3D[0][3][1]"
   ]
  },
  {
   "cell_type": "markdown",
   "metadata": {},
   "source": [
    "### Fatiamento (slicing)"
   ]
  },
  {
   "cell_type": "code",
   "execution_count": 24,
   "metadata": {},
   "outputs": [
    {
     "data": {
      "text/plain": [
       "array([6, 0, 4, 0, 2, 0, 1, 1, 1, 7])"
      ]
     },
     "execution_count": 24,
     "metadata": {},
     "output_type": "execute_result"
    }
   ],
   "source": [
    "# Array de 1 dimensão\n",
    "a1D"
   ]
  },
  {
   "cell_type": "code",
   "execution_count": 25,
   "metadata": {},
   "outputs": [
    {
     "data": {
      "text/plain": [
       "array([0, 4, 0, 2])"
      ]
     },
     "execution_count": 25,
     "metadata": {},
     "output_type": "execute_result"
    }
   ],
   "source": [
    "a = a1D[1:5] # Índice 1 ao 4\n",
    "a"
   ]
  },
  {
   "cell_type": "code",
   "execution_count": 26,
   "metadata": {},
   "outputs": [
    {
     "data": {
      "text/plain": [
       "array([6, 0, 4, 0, 2, 0])"
      ]
     },
     "execution_count": 26,
     "metadata": {},
     "output_type": "execute_result"
    }
   ],
   "source": [
    "b = a1D[0:6] # Índice 0 ao 5\n",
    "b"
   ]
  },
  {
   "cell_type": "code",
   "execution_count": 27,
   "metadata": {},
   "outputs": [
    {
     "data": {
      "text/plain": [
       "array([6, 0, 4, 0, 2, 0])"
      ]
     },
     "execution_count": 27,
     "metadata": {},
     "output_type": "execute_result"
    }
   ],
   "source": [
    "c = a1D[:6] # Do início ao 5\n",
    "c"
   ]
  },
  {
   "cell_type": "code",
   "execution_count": 29,
   "metadata": {},
   "outputs": [
    {
     "data": {
      "text/plain": [
       "array([6, 4, 2, 1, 1])"
      ]
     },
     "execution_count": 29,
     "metadata": {},
     "output_type": "execute_result"
    }
   ],
   "source": [
    "d = a1D[::2] # Do início ao fim, com passo 2\n",
    "d"
   ]
  },
  {
   "cell_type": "code",
   "execution_count": 30,
   "metadata": {},
   "outputs": [
    {
     "data": {
      "text/plain": [
       "array([7, 1, 1, 1, 0, 2, 0, 4, 0, 6])"
      ]
     },
     "execution_count": 30,
     "metadata": {},
     "output_type": "execute_result"
    }
   ],
   "source": [
    "e = a1D[-1::-1] # Do final até o início\n",
    "e"
   ]
  },
  {
   "cell_type": "code",
   "execution_count": 31,
   "metadata": {},
   "outputs": [
    {
     "data": {
      "text/plain": [
       "array([[ 7, 13, 56, 98, 45],\n",
       "       [71, 77, 31, 38, 94],\n",
       "       [90, 59,  2, 57, 92],\n",
       "       [89, 41, 77, 64, 68]])"
      ]
     },
     "execution_count": 31,
     "metadata": {},
     "output_type": "execute_result"
    }
   ],
   "source": [
    "# Array de 2 dimensões\n",
    "a2D"
   ]
  },
  {
   "cell_type": "code",
   "execution_count": 32,
   "metadata": {},
   "outputs": [
    {
     "data": {
      "text/plain": [
       "array([ 7, 13, 56, 98, 45])"
      ]
     },
     "execution_count": 32,
     "metadata": {},
     "output_type": "execute_result"
    }
   ],
   "source": [
    "linha0 = a2D[0] # Todos os elementos da linha 0 - outra forma seria: linha0 = a2D[0,:]\n",
    "linha0"
   ]
  },
  {
   "cell_type": "code",
   "execution_count": 33,
   "metadata": {},
   "outputs": [
    {
     "data": {
      "text/plain": [
       "array([71, 77, 31, 38, 94])"
      ]
     },
     "execution_count": 33,
     "metadata": {},
     "output_type": "execute_result"
    }
   ],
   "source": [
    "linha1 = a2D[1,:] # Todos os elementos da linha 1\n",
    "linha1"
   ]
  },
  {
   "cell_type": "code",
   "execution_count": 34,
   "metadata": {},
   "outputs": [
    {
     "data": {
      "text/plain": [
       "array([59,  2, 57])"
      ]
     },
     "execution_count": 34,
     "metadata": {},
     "output_type": "execute_result"
    }
   ],
   "source": [
    "linha2 = a2D[2,1:4] # Linha 2, colunas 1, 2 e 3\n",
    "linha2"
   ]
  },
  {
   "cell_type": "code",
   "execution_count": 36,
   "metadata": {},
   "outputs": [
    {
     "data": {
      "text/plain": [
       "array([89, 41, 77, 64, 68])"
      ]
     },
     "execution_count": 36,
     "metadata": {},
     "output_type": "execute_result"
    }
   ],
   "source": [
    "linha3 = a2D[:][3] # a2D[:] retorna toda a matriz, então de toda a matriz queremos a linha 3 a2D[:][3]\n",
    "linha3"
   ]
  },
  {
   "cell_type": "code",
   "execution_count": 37,
   "metadata": {},
   "outputs": [
    {
     "data": {
      "text/plain": [
       "array([56, 31,  2, 77])"
      ]
     },
     "execution_count": 37,
     "metadata": {},
     "output_type": "execute_result"
    }
   ],
   "source": [
    "coluna2 = a2D[:,2] # De todas as linhas, selecionar a coluna 2\n",
    "coluna2"
   ]
  },
  {
   "cell_type": "code",
   "execution_count": 38,
   "metadata": {},
   "outputs": [
    {
     "data": {
      "text/plain": [
       "array([38, 57, 64])"
      ]
     },
     "execution_count": 38,
     "metadata": {},
     "output_type": "execute_result"
    }
   ],
   "source": [
    "coluna3 = a2D[1:,3] # Da linha um até a última, selecionar a coluna 3\n",
    "coluna3"
   ]
  },
  {
   "cell_type": "code",
   "execution_count": 39,
   "metadata": {},
   "outputs": [
    {
     "data": {
      "text/plain": [
       "array([[[0.22313423, 0.96459802, 0.81003979, 0.3202331 , 0.79970301],\n",
       "        [0.64108078, 0.51320579, 0.48977679, 0.10091575, 0.17744863],\n",
       "        [0.08019348, 0.42284109, 0.67783351, 0.10120957, 0.52449624],\n",
       "        [0.7806066 , 0.86074008, 0.00397581, 0.60444499, 0.97808371]],\n",
       "\n",
       "       [[0.23864549, 0.11876185, 0.15610741, 0.3434204 , 0.62135074],\n",
       "        [0.08612984, 0.83787888, 0.77520181, 0.67011204, 0.93971613],\n",
       "        [0.14844687, 0.17499219, 0.02590024, 0.30385154, 0.66981505],\n",
       "        [0.86488713, 0.33308853, 0.13260632, 0.88356567, 0.22942502]],\n",
       "\n",
       "       [[0.18078672, 0.94616265, 0.80733066, 0.69472685, 0.05913967],\n",
       "        [0.73897772, 0.63404432, 0.53994421, 0.97825092, 0.85408167],\n",
       "        [0.40213028, 0.5080866 , 0.78488739, 0.11976166, 0.66189864],\n",
       "        [0.07797954, 0.09417865, 0.87586133, 0.68691576, 0.52589568]]])"
      ]
     },
     "execution_count": 39,
     "metadata": {},
     "output_type": "execute_result"
    }
   ],
   "source": [
    "# Array de 3 dimensões\n",
    "a3D"
   ]
  },
  {
   "cell_type": "code",
   "execution_count": 40,
   "metadata": {},
   "outputs": [
    {
     "data": {
      "text/plain": [
       "array([[0.76163608, 0.09862463, 0.55179373, 0.04544569, 0.48611129],\n",
       "       [0.58757544, 0.7183161 , 0.55202015, 0.52033372, 0.14960717],\n",
       "       [0.66213795, 0.97147589, 0.0595247 , 0.11927832, 0.65942077],\n",
       "       [0.52477627, 0.53551621, 0.76811475, 0.06466217, 0.22687256]])"
      ]
     },
     "execution_count": 40,
     "metadata": {},
     "output_type": "execute_result"
    }
   ],
   "source": [
    "# Acessando a página/face 1\n",
    "face1 = a3D[1]\n",
    "face1"
   ]
  },
  {
   "cell_type": "code",
   "execution_count": 41,
   "metadata": {},
   "outputs": [
    {
     "data": {
      "text/plain": [
       "array([[0.11876185, 0.15610741, 0.3434204 ],\n",
       "       [0.83787888, 0.77520181, 0.67011204],\n",
       "       [0.17499219, 0.02590024, 0.30385154]])"
      ]
     },
     "execution_count": 41,
     "metadata": {},
     "output_type": "execute_result"
    }
   ],
   "source": [
    "# Acessando uma parte da face1\n",
    "subface1 = a3D[1,0:3, 1:4]\n",
    "subface1"
   ]
  },
  {
   "cell_type": "code",
   "execution_count": 42,
   "metadata": {},
   "outputs": [
    {
     "data": {
      "text/plain": [
       "array([0.08019348, 0.42284109, 0.67783351, 0.10120957, 0.52449624])"
      ]
     },
     "execution_count": 42,
     "metadata": {},
     "output_type": "execute_result"
    }
   ],
   "source": [
    "linha2face0 = a3D[0,2] # outra forma: linha2face0 = a3D[0,2,:]\n",
    "linha2face0"
   ]
  },
  {
   "cell_type": "code",
   "execution_count": 43,
   "metadata": {},
   "outputs": [
    {
     "data": {
      "text/plain": [
       "array([[[0.22313423, 0.96459802, 0.81003979, 0.3202331 , 0.79970301],\n",
       "        [0.64108078, 0.51320579, 0.48977679, 0.10091575, 0.17744863],\n",
       "        [0.08019348, 0.42284109, 0.67783351, 0.10120957, 0.52449624],\n",
       "        [0.7806066 , 0.86074008, 0.00397581, 0.60444499, 0.97808371]],\n",
       "\n",
       "       [[0.23864549, 0.11876185, 0.15610741, 0.3434204 , 0.62135074],\n",
       "        [0.08612984, 0.83787888, 0.77520181, 0.67011204, 0.93971613],\n",
       "        [0.14844687, 0.17499219, 0.02590024, 0.30385154, 0.66981505],\n",
       "        [0.86488713, 0.33308853, 0.13260632, 0.88356567, 0.22942502]],\n",
       "\n",
       "       [[0.18078672, 0.94616265, 0.80733066, 0.69472685, 0.05913967],\n",
       "        [0.73897772, 0.63404432, 0.53994421, 0.97825092, 0.85408167],\n",
       "        [0.40213028, 0.5080866 , 0.78488739, 0.11976166, 0.66189864],\n",
       "        [0.07797954, 0.09417865, 0.87586133, 0.68691576, 0.52589568]]])"
      ]
     },
     "execution_count": 43,
     "metadata": {},
     "output_type": "execute_result"
    }
   ],
   "source": [
    "a3D"
   ]
  },
  {
   "cell_type": "code",
   "execution_count": 44,
   "metadata": {},
   "outputs": [
    {
     "data": {
      "text/plain": [
       "array([[0.64108078, 0.51320579, 0.48977679, 0.10091575, 0.17744863],\n",
       "       [0.08612984, 0.83787888, 0.77520181, 0.67011204, 0.93971613],\n",
       "       [0.73897772, 0.63404432, 0.53994421, 0.97825092, 0.85408167]])"
      ]
     },
     "execution_count": 44,
     "metadata": {},
     "output_type": "execute_result"
    }
   ],
   "source": [
    "linha1todasfaces = a3D[:,1] # outra forma: linha1todasfaces = a3D[:,1,:]\n",
    "linha1todasfaces"
   ]
  },
  {
   "cell_type": "code",
   "execution_count": 45,
   "metadata": {},
   "outputs": [
    {
     "data": {
      "text/plain": [
       "array([[0.3202331 , 0.10091575, 0.10120957, 0.60444499],\n",
       "       [0.3434204 , 0.67011204, 0.30385154, 0.88356567],\n",
       "       [0.69472685, 0.97825092, 0.11976166, 0.68691576]])"
      ]
     },
     "execution_count": 45,
     "metadata": {},
     "output_type": "execute_result"
    }
   ],
   "source": [
    "coluna3todasfaces = a3D[:,:,3]\n",
    "coluna3todasfaces"
   ]
  },
  {
   "cell_type": "markdown",
   "metadata": {},
   "source": [
    "### Indexação com booleanos"
   ]
  },
  {
   "cell_type": "code",
   "execution_count": 46,
   "metadata": {},
   "outputs": [
    {
     "data": {
      "text/plain": [
       "array([[ 95, 132, 202,  72,  74, 422, 432, 207],\n",
       "       [147, 431,  27, 146, 447,   3, 421, 422],\n",
       "       [254, 424, 317,  22, 184, 115, 387, 133],\n",
       "       [ 47, 480, 217, 146, 163, 454, 364, 135],\n",
       "       [496,  87, 277, 192, 229, 334, 463,  33],\n",
       "       [ 40, 282,  95, 316, 356, 405,  69, 320],\n",
       "       [336, 337, 454,  56, 135, 253,   6, 160],\n",
       "       [ 89, 175, 465, 392, 279, 486, 413,  11],\n",
       "       [253, 489, 145, 110, 471, 187, 305,  11],\n",
       "       [394, 149, 229,  78, 114, 472, 100,   6]])"
      ]
     },
     "execution_count": 46,
     "metadata": {},
     "output_type": "execute_result"
    }
   ],
   "source": [
    "a2D = np.random.randint(1, 501, (10, 8)) # Cria um ndarray de 10 linhas x 8 colunas com elementos entre 1 e 500\n",
    "a2D"
   ]
  },
  {
   "cell_type": "code",
   "execution_count": 47,
   "metadata": {},
   "outputs": [
    {
     "data": {
      "text/plain": [
       "array([[False, False, False, False, False,  True,  True, False],\n",
       "       [False,  True, False, False,  True, False,  True,  True],\n",
       "       [ True,  True,  True, False, False, False,  True, False],\n",
       "       [False,  True, False, False, False,  True,  True, False],\n",
       "       [ True, False,  True, False, False,  True,  True, False],\n",
       "       [False,  True, False,  True,  True,  True, False,  True],\n",
       "       [ True,  True,  True, False, False,  True, False, False],\n",
       "       [False, False,  True,  True,  True,  True,  True, False],\n",
       "       [ True,  True, False, False,  True, False,  True, False],\n",
       "       [ True, False, False, False, False,  True, False, False]])"
      ]
     },
     "execution_count": 47,
     "metadata": {},
     "output_type": "execute_result"
    }
   ],
   "source": [
    "a2D >= 250"
   ]
  },
  {
   "cell_type": "code",
   "execution_count": 48,
   "metadata": {},
   "outputs": [
    {
     "data": {
      "text/plain": [
       "array([422, 432, 431, 447, 421, 422, 254, 424, 317, 387, 480, 454, 364,\n",
       "       496, 277, 334, 463, 282, 316, 356, 405, 320, 336, 337, 454, 253,\n",
       "       465, 392, 279, 486, 413, 253, 489, 471, 305, 394, 472])"
      ]
     },
     "execution_count": 48,
     "metadata": {},
     "output_type": "execute_result"
    }
   ],
   "source": [
    "a2D[a2D >= 250]"
   ]
  },
  {
   "cell_type": "code",
   "execution_count": 55,
   "metadata": {},
   "outputs": [
    {
     "data": {
      "text/plain": [
       "238.45"
      ]
     },
     "execution_count": 55,
     "metadata": {},
     "output_type": "execute_result"
    }
   ],
   "source": [
    "a2D.mean()"
   ]
  },
  {
   "cell_type": "code",
   "execution_count": 56,
   "metadata": {},
   "outputs": [
    {
     "data": {
      "text/plain": [
       "array([ 95, 132, 202,  72,  74, 207, 147,  27, 146,   3,  22, 184, 115,\n",
       "       133,  47, 217, 146, 163, 135,  87, 192, 229,  33,  40,  95,  69,\n",
       "        56, 135,   6, 160,  89, 175,  11, 145, 110, 187,  11, 149, 229,\n",
       "        78, 114, 100,   6])"
      ]
     },
     "execution_count": 56,
     "metadata": {},
     "output_type": "execute_result"
    }
   ],
   "source": [
    "a2D[a2D <= a2D.mean()]"
   ]
  },
  {
   "cell_type": "code",
   "execution_count": null,
   "metadata": {
    "collapsed": true
   },
   "outputs": [],
   "source": []
  }
 ],
 "metadata": {
  "kernelspec": {
   "display_name": "Python 3",
   "language": "python",
   "name": "python3"
  },
  "language_info": {
   "codemirror_mode": {
    "name": "ipython",
    "version": 3
   },
   "file_extension": ".py",
   "mimetype": "text/x-python",
   "name": "python",
   "nbconvert_exporter": "python",
   "pygments_lexer": "ipython3",
   "version": "3.9.12"
  }
 },
 "nbformat": 4,
 "nbformat_minor": 2
}
